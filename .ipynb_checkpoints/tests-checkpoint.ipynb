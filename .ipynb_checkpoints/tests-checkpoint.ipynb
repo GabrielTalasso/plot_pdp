{
 "cells": [
  {
   "cell_type": "code",
   "execution_count": 1,
   "metadata": {},
   "outputs": [],
   "source": [
    "import pandas as pd\n",
    "import numpy as np\n",
    "import matplotlib.pyplot as plt"
   ]
  },
  {
   "cell_type": "code",
   "execution_count": 2,
   "metadata": {},
   "outputs": [],
   "source": [
    "data = pd.read_csv('./data/german_credit_data.csv').drop('Unnamed: 0', axis = 1)"
   ]
  },
  {
   "cell_type": "code",
   "execution_count": 3,
   "metadata": {},
   "outputs": [],
   "source": [
    "data.head()"
   ]
  },
  {
   "cell_type": "code",
   "execution_count": 4,
   "metadata": {},
   "outputs": [],
   "source": [
    "data['date'] = '2022/08/31'"
   ]
  },
  {
   "cell_type": "code",
   "execution_count": 5,
   "metadata": {},
   "outputs": [],
   "source": [
    "from preprocessing import preprocessing"
   ]
  },
  {
   "cell_type": "code",
   "execution_count": 6,
   "metadata": {},
   "outputs": [],
   "source": [
    "preprocessing(data, NA = 'mean_mode', to_date = 'date', dummies = 'Purpose').info()"
   ]
  },
  {
   "cell_type": "code",
   "execution_count": 7,
   "metadata": {},
   "outputs": [],
   "source": [
    "data_num = data.select_dtypes(include=np.number) #only numerical columns\n",
    "data_cat = data.drop(data_num.columns, axis = 1)"
   ]
  },
  {
   "cell_type": "code",
   "execution_count": 8,
   "metadata": {},
   "outputs": [],
   "source": [
    "from sklearn.inspection import PartialDependenceDisplay\n",
    "from sklearn.inspection import partial_dependence\n",
    "\n",
    "from sklearn.ensemble import RandomForestClassifier"
   ]
  },
  {
   "cell_type": "code",
   "execution_count": 9,
   "metadata": {},
   "outputs": [],
   "source": [
    "path = './data/german_raw.csv'\n",
    "df = pd.read_csv(path)\n",
    "df.head()"
   ]
  },
  {
   "cell_type": "code",
   "execution_count": 10,
   "metadata": {},
   "outputs": [],
   "source": [
    "clf = RandomForestClassifier()\n",
    "\n",
    "X = preprocessing(df.drop('GoodCustomer', axis = 1), NA = 'mean_mode', normalization=True, norm_type='norm', dummies = 'all').dropna(axis = 1)\n",
    "y = df['GoodCustomer']"
   ]
  },
  {
   "cell_type": "code",
   "execution_count": 11,
   "metadata": {},
   "outputs": [],
   "source": [
    "clf.fit(X, y)"
   ]
  },
  {
   "cell_type": "code",
   "execution_count": 12,
   "metadata": {},
   "outputs": [],
   "source": [
    "partial_dependence(clf, X=X.sample(100), features=[14,16],\n",
    "                   kind = 'average')['average'][0]"
   ]
  },
  {
   "cell_type": "code",
   "execution_count": 13,
   "metadata": {},
   "outputs": [],
   "source": [
    "plt.figure(figsize = (20,20))\n",
    "features = [14, 16] #cada número representa uma feature \n",
    "PartialDependenceDisplay.from_estimator(clf, X, features)"
   ]
  },
  {
   "cell_type": "code",
   "execution_count": 14,
   "metadata": {},
   "outputs": [],
   "source": [
    "import numpy as np\n",
    "import matplotlib.pyplot as plt\n",
    "from sklearn.inspection import PartialDependenceDisplay\n",
    "from sklearn.inspection import partial_dependence\n",
    "from sklearn.ensemble import RandomForestRegressor"
   ]
  },
  {
   "cell_type": "code",
   "execution_count": 15,
   "metadata": {},
   "outputs": [],
   "source": [
    "feature = 'LoanAmount'\n",
    "feature = 'Age'\n",
    "\n",
    "pd_results = partial_dependence(\n",
    "    clf, X, features=feature, kind=\"average\")\n",
    "#display = PartialDependenceDisplay(\n",
    "#    [pd_results], features=features, feature_names=feature_names,\n",
    "#    target_idx=0, deciles=deciles\n",
    "#)"
   ]
  },
  {
   "cell_type": "code",
   "execution_count": 16,
   "metadata": {},
   "outputs": [],
   "source": [
    "X.columns"
   ]
  },
  {
   "cell_type": "code",
   "execution_count": 17,
   "metadata": {},
   "outputs": [],
   "source": [
    "df[feature]"
   ]
  },
  {
   "cell_type": "code",
   "execution_count": 18,
   "metadata": {},
   "outputs": [],
   "source": [
    "pdp_df = pd.DataFrame({'grid_values': pd_results['values'][0], 'average': pd_results['average'][0]})\n",
    "pdp_dict = pdp_df.to_dict(orient='records')\n",
    "\n",
    "#x_start = min(df[feature].min(), pdp_df['grid_values'].min())\n",
    "#x_end = max(df[feature].max(), pdp_df['grid_values'].max())\n",
    "\n",
    "x_start = pdp_df['grid_values'].min()\n",
    "x_end = pdp_df['grid_values'].max()\n"
   ]
  },
  {
   "cell_type": "code",
   "execution_count": 19,
   "metadata": {},
   "outputs": [],
   "source": [
    "pdp_df.tail()"
   ]
  },
  {
   "cell_type": "code",
   "execution_count": 20,
   "metadata": {},
   "outputs": [],
   "source": [
    "import os\n",
    "os.chdir('./dash_interface/')\n",
    "from my_dash_components import ScatterplotComponent, LinearplotComponent, HistogramplotComponent, LinearHistComponent\n",
    "from dash import dcc, html, Input, Output\n",
    "import pandas as pd\n",
    "from jupyter_dash import JupyterDash\n",
    "hostId = 0\n",
    "def getHost():\n",
    "    global hostId\n",
    "    hostId += 1\n",
    "    return '127.0.0.' + str(hostId)"
   ]
  },
  {
   "cell_type": "code",
   "execution_count": 23,
   "metadata": {},
   "outputs": [],
   "source": [
    "app = JupyterDash(__name__)\n",
    "\n",
    "app.layout = html.Div([\n",
    "    LinearplotComponent(\n",
    "        id='linear',\n",
    "        data=pdp_dict,\n",
    "        x_axis='grid_values',\n",
    "        y_axis='average',\n",
    "        xStart=x_start,\n",
    "        xEnd=x_end,\n",
    "    ),\n",
    "    HistogramplotComponent(\n",
    "        id='hist',\n",
    "        data=df.to_dict(orient='records'),\n",
    "        value=feature,\n",
    "        xStart=x_start,\n",
    "        xEnd=x_end,\n",
    "    ),\n",
    "    html.Div(id='output')\n",
    "])\n",
    "\n",
    "clickedValue = \"\"\n",
    "@app.callback(\n",
    "    Output(\"output\", \"children\"), \n",
    "    Input(\"linear\", \"value\"))\n",
    "def showDataPoint(value):\n",
    "    global clickedValue\n",
    "    clickedValue = value\n",
    "    return value\n",
    "\n",
    "if __name__ == '__main__':\n",
    "    app.run(mode=\"jupyterlab\")\n",
    "    #app.run_server(mode='inline')\n",
    "    #app.run_server(mode=\"inline\", host=getHost())\n",
    "\n",
    "    #verifica o gridvalues e verificar o value do histograma\n"
   ]
  },
  {
   "cell_type": "code",
   "execution_count": null,
   "metadata": {},
   "outputs": [],
   "source": []
  }
 ],
 "metadata": {
  "kernelspec": {
   "display_name": "Python 3 (ipykernel)",
   "language": "python",
   "name": "python3"
  },
  "language_info": {
   "codemirror_mode": {
    "name": "ipython",
    "version": 3
   },
   "file_extension": ".py",
   "mimetype": "text/x-python",
   "name": "python",
   "nbconvert_exporter": "python",
   "pygments_lexer": "ipython3",
   "version": "3.8.10"
  }
 },
 "nbformat": 4,
 "nbformat_minor": 2
}
